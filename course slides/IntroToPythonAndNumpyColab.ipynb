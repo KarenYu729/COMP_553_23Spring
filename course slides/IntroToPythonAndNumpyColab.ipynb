{
  "cells": [
    {
      "cell_type": "markdown",
      "metadata": {
        "id": "view-in-github",
        "colab_type": "text"
      },
      "source": [
        "<a href=\"https://colab.research.google.com/github/KarenYu729/COMP_553_23Spring/blob/main/course%20slides/IntroToPythonAndNumpyColab.ipynb\" target=\"_parent\"><img src=\"https://colab.research.google.com/assets/colab-badge.svg\" alt=\"Open In Colab\"/></a>"
      ]
    },
    {
      "cell_type": "markdown",
      "metadata": {
        "id": "DZCnIOTZGDX1"
      },
      "source": [
        "\n",
        "# Python & Numpy \n",
        "## Python Basics\n",
        "\n",
        "### Lists\n"
      ]
    },
    {
      "cell_type": "code",
      "execution_count": 1,
      "metadata": {
        "id": "qn9Kf_3RwjVM"
      },
      "outputs": [],
      "source": [
        "# create an empty list\n",
        "myList = []"
      ]
    },
    {
      "cell_type": "code",
      "execution_count": 2,
      "metadata": {
        "colab": {
          "base_uri": "https://localhost:8080/"
        },
        "id": "v3-cCkUgwjVP",
        "outputId": "7e733524-5481-48d6-bfa0-3c82ec8caca7"
      },
      "outputs": [
        {
          "output_type": "execute_result",
          "data": {
            "text/plain": [
              "['a']"
            ]
          },
          "metadata": {},
          "execution_count": 2
        }
      ],
      "source": [
        "# add 'a' to myList\n",
        "myList.append('a')\n",
        "myList"
      ]
    },
    {
      "cell_type": "code",
      "execution_count": 3,
      "metadata": {
        "colab": {
          "base_uri": "https://localhost:8080/"
        },
        "id": "xeYz8MiywjVQ",
        "outputId": "ff4a67d2-7255-4bc0-9a48-eacb029daa59"
      },
      "outputs": [
        {
          "output_type": "execute_result",
          "data": {
            "text/plain": [
              "['b', 'a']"
            ]
          },
          "metadata": {},
          "execution_count": 3
        }
      ],
      "source": [
        "# insert 'b' to the start of the list\n",
        "myList.insert(0, 'b')\n",
        "myList"
      ]
    },
    {
      "cell_type": "code",
      "execution_count": 4,
      "metadata": {
        "colab": {
          "base_uri": "https://localhost:8080/"
        },
        "id": "4hiX1HygwjVR",
        "outputId": "685ab0b7-9951-4f95-faf1-a254d429dc0c"
      },
      "outputs": [
        {
          "output_type": "execute_result",
          "data": {
            "text/plain": [
              "['b']"
            ]
          },
          "metadata": {},
          "execution_count": 4
        }
      ],
      "source": [
        "# remove 'a'\n",
        "myList.remove('a')\n",
        "myList"
      ]
    },
    {
      "cell_type": "code",
      "execution_count": 5,
      "metadata": {
        "colab": {
          "base_uri": "https://localhost:8080/"
        },
        "id": "OQNUe5ZAwjVS",
        "outputId": "de91be95-5b80-4fb8-9777-8f79e6f75eaa"
      },
      "outputs": [
        {
          "output_type": "stream",
          "name": "stdout",
          "text": [
            "b\n"
          ]
        }
      ],
      "source": [
        "# print elements\n",
        "for x in myList:\n",
        "    print(x)"
      ]
    },
    {
      "cell_type": "markdown",
      "metadata": {
        "id": "CEA_ay3jGDX3"
      },
      "source": [
        "### Dictionaries"
      ]
    },
    {
      "cell_type": "code",
      "execution_count": 6,
      "metadata": {
        "id": "cBo5gSfOGDX3"
      },
      "outputs": [],
      "source": [
        "# create an empty dictionary \n",
        "wordsInDoc = {} "
      ]
    },
    {
      "cell_type": "code",
      "execution_count": 7,
      "metadata": {
        "id": "WtgnrJjrGDX4"
      },
      "outputs": [],
      "source": [
        "# and add some data to it\n",
        "wordsInDoc[23] = 16"
      ]
    },
    {
      "cell_type": "code",
      "execution_count": 8,
      "metadata": {
        "id": "EQpg0-_JGDX4",
        "colab": {
          "base_uri": "https://localhost:8080/"
        },
        "outputId": "ef64fc01-97b6-4a24-f76d-897a398d90d6"
      },
      "outputs": [
        {
          "output_type": "execute_result",
          "data": {
            "text/plain": [
              "16"
            ]
          },
          "metadata": {},
          "execution_count": 8
        }
      ],
      "source": [
        "# retrieve the data\n",
        "wordsInDoc[23]"
      ]
    },
    {
      "cell_type": "markdown",
      "metadata": {
        "id": "ZXZzsjaJGDX5"
      },
      "source": [
        "What happens if the key is not in the dictionary? \n",
        "\n",
        "Try it and see"
      ]
    },
    {
      "cell_type": "code",
      "execution_count": 9,
      "metadata": {
        "id": "hbwaUy3zGDX5",
        "colab": {
          "base_uri": "https://localhost:8080/",
          "height": 166
        },
        "outputId": "23e34948-ffa4-4ef5-f21d-ed1913962215"
      },
      "outputs": [
        {
          "output_type": "error",
          "ename": "KeyError",
          "evalue": "ignored",
          "traceback": [
            "\u001b[0;31m---------------------------------------------------------------------------\u001b[0m",
            "\u001b[0;31mKeyError\u001b[0m                                  Traceback (most recent call last)",
            "\u001b[0;32m<ipython-input-9-01cad658e6bb>\u001b[0m in \u001b[0;36m<module>\u001b[0;34m\u001b[0m\n\u001b[0;32m----> 1\u001b[0;31m \u001b[0mwordsInDoc\u001b[0m\u001b[0;34m[\u001b[0m\u001b[0;36m18\u001b[0m\u001b[0;34m]\u001b[0m\u001b[0;34m\u001b[0m\u001b[0;34m\u001b[0m\u001b[0m\n\u001b[0m",
            "\u001b[0;31mKeyError\u001b[0m: 18"
          ]
        }
      ],
      "source": [
        "wordsInDoc[18]"
      ]
    },
    {
      "cell_type": "markdown",
      "metadata": {
        "id": "VIM42O4lGDX5"
      },
      "source": [
        "To avoid this problem, use \n",
        "\n",
        "`.get`\n",
        "\n",
        "This function will return 0 if the key is not in the dictionary"
      ]
    },
    {
      "cell_type": "code",
      "execution_count": 10,
      "metadata": {
        "id": "CBApc5SRGDX5",
        "colab": {
          "base_uri": "https://localhost:8080/"
        },
        "outputId": "83ac2ee5-576f-4fde-c2dc-059e72a791af"
      },
      "outputs": [
        {
          "output_type": "execute_result",
          "data": {
            "text/plain": [
              "0"
            ]
          },
          "metadata": {},
          "execution_count": 10
        }
      ],
      "source": [
        "wordsInDoc.get(203, 0)"
      ]
    },
    {
      "cell_type": "markdown",
      "metadata": {
        "id": "RR5yd9nwGDX2"
      },
      "source": [
        "### A first Python program"
      ]
    },
    {
      "cell_type": "code",
      "execution_count": 11,
      "metadata": {
        "id": "fV5Kck-9GDX2"
      },
      "outputs": [],
      "source": [
        "def Factorial (n):\n",
        "     if n == 1 or n == 0:\n",
        "          return 1\n",
        "     else:\n",
        "          return n * Factorial (n - 1)\n",
        "\n"
      ]
    },
    {
      "cell_type": "code",
      "execution_count": 12,
      "metadata": {
        "id": "59JNPZz8GDX3",
        "colab": {
          "base_uri": "https://localhost:8080/"
        },
        "outputId": "0147c899-563e-48f2-a883-5ea158359a7c"
      },
      "outputs": [
        {
          "output_type": "execute_result",
          "data": {
            "text/plain": [
              "479001600"
            ]
          },
          "metadata": {},
          "execution_count": 12
        }
      ],
      "source": [
        "Factorial (12)\n"
      ]
    },
    {
      "cell_type": "markdown",
      "metadata": {
        "id": "DNh5TF-SGDX5"
      },
      "source": [
        "### Loops"
      ]
    },
    {
      "cell_type": "code",
      "execution_count": 13,
      "metadata": {
        "id": "qp49NuECGDX6",
        "colab": {
          "base_uri": "https://localhost:8080/"
        },
        "outputId": "56047134-221e-4cc8-a07c-cc80b969831f"
      },
      "outputs": [
        {
          "output_type": "stream",
          "name": "stdout",
          "text": [
            "this\n",
            "that\n",
            "other\n"
          ]
        }
      ],
      "source": [
        "# dictionary a\n",
        "a = {}\n",
        "a[1] = 'this'\n",
        "a[2] = 'that'\n",
        "a[3] = 'other'\n",
        "for b in a:\n",
        "   print(a[b])\n"
      ]
    },
    {
      "cell_type": "markdown",
      "metadata": {
        "id": "wFpy6uHrGDX6"
      },
      "source": [
        "## NumPy\n",
        "\n",
        "Hopefully,that was all review. Let's talk about numpy now.\n",
        "\n",
        "http://www.numpy.org/\n",
        "\n",
        "Numpy is a scietific computing platform for Python. We're going to use it a lot in this course.\n",
        "\n",
        "First, load the package:"
      ]
    },
    {
      "cell_type": "code",
      "execution_count": 2,
      "metadata": {
        "id": "OSr2LJEdGDX6"
      },
      "outputs": [],
      "source": [
        "import numpy as np"
      ]
    },
    {
      "cell_type": "markdown",
      "metadata": {
        "id": "-iqC5I1lGDX6"
      },
      "source": [
        "### 1D Numpy Arrays \n"
      ]
    },
    {
      "cell_type": "code",
      "execution_count": 28,
      "metadata": {
        "id": "KbKFncS0GDX6",
        "colab": {
          "base_uri": "https://localhost:8080/"
        },
        "outputId": "7d5abb63-ab91-443f-c4c0-2daacf4e3f44"
      },
      "outputs": [
        {
          "output_type": "execute_result",
          "data": {
            "text/plain": [
              "array([0, 8, 5, 2])"
            ]
          },
          "metadata": {},
          "execution_count": 28
        }
      ],
      "source": [
        "# From a python list\n",
        "np.array([0, 8, 5, 2])"
      ]
    },
    {
      "cell_type": "code",
      "execution_count": 29,
      "metadata": {
        "id": "GQ1yD-YnGDX7",
        "colab": {
          "base_uri": "https://localhost:8080/"
        },
        "outputId": "ad1f1844-a2ce-423a-f908-e91219be64a4"
      },
      "outputs": [
        {
          "output_type": "execute_result",
          "data": {
            "text/plain": [
              "array([1, 3, 5, 7, 9])"
            ]
          },
          "metadata": {},
          "execution_count": 29
        }
      ],
      "source": [
        "# Based on a range\n",
        "np.arange(1,11,2)"
      ]
    },
    {
      "cell_type": "code",
      "execution_count": 17,
      "metadata": {
        "id": "EoJWqgLCGDX7",
        "colab": {
          "base_uri": "https://localhost:8080/"
        },
        "outputId": "3fca6af3-f139-4206-df9c-8644169f6a8e"
      },
      "outputs": [
        {
          "output_type": "execute_result",
          "data": {
            "text/plain": [
              "array([ 0.,  5., 10., 15., 20.])"
            ]
          },
          "metadata": {},
          "execution_count": 17
        }
      ],
      "source": [
        "# Evenly distributed over an interval\n",
        "np.linspace(0., 20., 5)"
      ]
    },
    {
      "cell_type": "markdown",
      "metadata": {
        "id": "ymUCdsNRGDX_"
      },
      "source": [
        "### 1D array selection"
      ]
    },
    {
      "cell_type": "code",
      "execution_count": 34,
      "metadata": {
        "id": "Kkw52gy-GDX_",
        "colab": {
          "base_uri": "https://localhost:8080/"
        },
        "outputId": "7d0d8549-ec45-4375-cbfa-8e8bc8ee9cac"
      },
      "outputs": [
        {
          "output_type": "execute_result",
          "data": {
            "text/plain": [
              "array([1, 3, 5, 7, 9])"
            ]
          },
          "metadata": {},
          "execution_count": 34
        }
      ],
      "source": [
        "# create the array\n",
        "a = np.arange(1, 11, 2)\n",
        "a"
      ]
    },
    {
      "cell_type": "code",
      "execution_count": 19,
      "metadata": {
        "id": "73EWgrEuGDYA",
        "colab": {
          "base_uri": "https://localhost:8080/"
        },
        "outputId": "1a805291-4776-4b69-adda-544af681d5a5"
      },
      "outputs": [
        {
          "output_type": "execute_result",
          "data": {
            "text/plain": [
              "5"
            ]
          },
          "metadata": {},
          "execution_count": 19
        }
      ],
      "source": [
        "# By index\n",
        "a[2]"
      ]
    },
    {
      "cell_type": "code",
      "execution_count": 20,
      "metadata": {
        "id": "hTkT-C53GDYA",
        "colab": {
          "base_uri": "https://localhost:8080/"
        },
        "outputId": "86316e78-821e-4e54-935f-abe971ae7917"
      },
      "outputs": [
        {
          "output_type": "execute_result",
          "data": {
            "text/plain": [
              "array([3, 5, 7])"
            ]
          },
          "metadata": {},
          "execution_count": 20
        }
      ],
      "source": [
        "# By slice\n",
        "a[1:-1]"
      ]
    },
    {
      "cell_type": "code",
      "execution_count": 21,
      "metadata": {
        "id": "lBjvuMroGDYA",
        "colab": {
          "base_uri": "https://localhost:8080/"
        },
        "outputId": "ebdfe6f7-e1e8-4fe1-b6a5-531f4d20c0af"
      },
      "outputs": [
        {
          "output_type": "execute_result",
          "data": {
            "text/plain": [
              "array([5, 9])"
            ]
          },
          "metadata": {},
          "execution_count": 21
        }
      ],
      "source": [
        "# By list of indices\n",
        "a[[2, 4]]\n"
      ]
    },
    {
      "cell_type": "code",
      "execution_count": 22,
      "metadata": {
        "id": "1LwQk31IGDYB",
        "colab": {
          "base_uri": "https://localhost:8080/"
        },
        "outputId": "0e6b740b-53c8-4eab-f1dd-931beca374bb"
      },
      "outputs": [
        {
          "output_type": "execute_result",
          "data": {
            "text/plain": [
              "array([1, 3])"
            ]
          },
          "metadata": {},
          "execution_count": 22
        }
      ],
      "source": [
        "# By condition\n",
        "a[a<5]"
      ]
    },
    {
      "cell_type": "code",
      "source": [
        "a<5"
      ],
      "metadata": {
        "colab": {
          "base_uri": "https://localhost:8080/"
        },
        "id": "dGYLU2I3NV-K",
        "outputId": "671b0388-ab0d-4d36-994f-7dda2d805395"
      },
      "execution_count": 35,
      "outputs": [
        {
          "output_type": "execute_result",
          "data": {
            "text/plain": [
              "array([ True,  True, False, False, False])"
            ]
          },
          "metadata": {},
          "execution_count": 35
        }
      ]
    },
    {
      "cell_type": "markdown",
      "metadata": {
        "id": "9FdFIv3IGDYB"
      },
      "source": [
        "### Create a 2D array"
      ]
    },
    {
      "cell_type": "code",
      "execution_count": 36,
      "metadata": {
        "id": "LCIPCisbGDYB",
        "colab": {
          "base_uri": "https://localhost:8080/"
        },
        "outputId": "e55ab4b4-9da9-4777-bfc5-58ee395f6642"
      },
      "outputs": [
        {
          "output_type": "execute_result",
          "data": {
            "text/plain": [
              "array([[0, 8, 5],\n",
              "       [1, 4, 7]])"
            ]
          },
          "metadata": {},
          "execution_count": 36
        }
      ],
      "source": [
        "np.array([[0, 8, 5], [1, 4, 7]])"
      ]
    },
    {
      "cell_type": "markdown",
      "metadata": {
        "id": "t9jatm4eGDYB"
      },
      "source": [
        "### 2D array selection\n",
        "#### By indices"
      ]
    },
    {
      "cell_type": "code",
      "execution_count": 37,
      "metadata": {
        "id": "YbRr3M9gGDYC",
        "colab": {
          "base_uri": "https://localhost:8080/"
        },
        "outputId": "7ff8968b-64f5-41e8-d521-ec05e81824f8"
      },
      "outputs": [
        {
          "output_type": "execute_result",
          "data": {
            "text/plain": [
              "7"
            ]
          },
          "metadata": {},
          "execution_count": 37
        }
      ],
      "source": [
        "a = np.array([[0, 8, 5], [1, 4, 7]])\n",
        "a[1,2]"
      ]
    },
    {
      "cell_type": "code",
      "source": [
        "a[1][2]"
      ],
      "metadata": {
        "colab": {
          "base_uri": "https://localhost:8080/"
        },
        "id": "NDNN0fS2Nedk",
        "outputId": "aece6afc-4d5a-41cb-d4ab-9025e2ebea3b"
      },
      "execution_count": 38,
      "outputs": [
        {
          "output_type": "execute_result",
          "data": {
            "text/plain": [
              "7"
            ]
          },
          "metadata": {},
          "execution_count": 38
        }
      ]
    },
    {
      "cell_type": "code",
      "source": [
        "a[(1,1),(1,2)]"
      ],
      "metadata": {
        "colab": {
          "base_uri": "https://localhost:8080/"
        },
        "id": "9rPPv7KwNgcp",
        "outputId": "869511fa-bf75-4496-f0bd-65a7668df743"
      },
      "execution_count": 44,
      "outputs": [
        {
          "output_type": "execute_result",
          "data": {
            "text/plain": [
              "array([4, 7])"
            ]
          },
          "metadata": {},
          "execution_count": 44
        }
      ]
    },
    {
      "cell_type": "code",
      "source": [
        "a[[1,1],[1,2]]"
      ],
      "metadata": {
        "colab": {
          "base_uri": "https://localhost:8080/"
        },
        "id": "x-Utc5eEN7st",
        "outputId": "0ce45600-fe51-410c-f4c2-5ffa974536fd"
      },
      "execution_count": 45,
      "outputs": [
        {
          "output_type": "execute_result",
          "data": {
            "text/plain": [
              "array([4, 7])"
            ]
          },
          "metadata": {},
          "execution_count": 45
        }
      ]
    },
    {
      "cell_type": "code",
      "source": [
        "a[(0,1),(1,2)]"
      ],
      "metadata": {
        "colab": {
          "base_uri": "https://localhost:8080/"
        },
        "id": "0itL3wcUODOh",
        "outputId": "3c4bef3d-866f-4186-9f01-1e0db839b359"
      },
      "execution_count": 46,
      "outputs": [
        {
          "output_type": "execute_result",
          "data": {
            "text/plain": [
              "array([8, 7])"
            ]
          },
          "metadata": {},
          "execution_count": 46
        }
      ]
    },
    {
      "cell_type": "code",
      "execution_count": 47,
      "metadata": {
        "id": "75pIS68jGDYC",
        "colab": {
          "base_uri": "https://localhost:8080/"
        },
        "outputId": "3321c673-e80d-4961-f7f5-db0c7aa65233"
      },
      "outputs": [
        {
          "output_type": "execute_result",
          "data": {
            "text/plain": [
              "array([[8, 5],\n",
              "       [4, 7]])"
            ]
          },
          "metadata": {},
          "execution_count": 47
        }
      ],
      "source": [
        "# By slice\n",
        "a[:, 1:]\n"
      ]
    },
    {
      "cell_type": "code",
      "source": [
        "a[:, 1]"
      ],
      "metadata": {
        "colab": {
          "base_uri": "https://localhost:8080/"
        },
        "id": "8JfCPOOhOKyS",
        "outputId": "2efad7b5-9c00-4e3c-d545-cae59f01879a"
      },
      "execution_count": 52,
      "outputs": [
        {
          "output_type": "execute_result",
          "data": {
            "text/plain": [
              "array([8, 4])"
            ]
          },
          "metadata": {},
          "execution_count": 52
        }
      ]
    },
    {
      "cell_type": "code",
      "execution_count": 49,
      "metadata": {
        "id": "4qAOpr5OGDYC",
        "colab": {
          "base_uri": "https://localhost:8080/"
        },
        "outputId": "0db92849-0e80-49aa-de57-2531abc6906e"
      },
      "outputs": [
        {
          "output_type": "execute_result",
          "data": {
            "text/plain": [
              "array([0, 1, 7])"
            ]
          },
          "metadata": {},
          "execution_count": 49
        }
      ],
      "source": [
        "# By list of indices\n",
        "#Elements (0,0), (1,0), and (1,2) \n",
        "\n",
        "a[[0,1,1],[0,0,2]]\n"
      ]
    },
    {
      "cell_type": "code",
      "execution_count": 50,
      "metadata": {
        "id": "C8OozbYWGDYC",
        "colab": {
          "base_uri": "https://localhost:8080/"
        },
        "outputId": "0d9a58e2-e29d-40c6-9d7b-e6fcd2ba0eb5"
      },
      "outputs": [
        {
          "output_type": "execute_result",
          "data": {
            "text/plain": [
              "array([[0, 5],\n",
              "       [1, 7]])"
            ]
          },
          "metadata": {},
          "execution_count": 50
        }
      ],
      "source": [
        "#All rows, columns 0 and 2\n",
        "a[:,[0,2]]"
      ]
    },
    {
      "cell_type": "code",
      "execution_count": 53,
      "metadata": {
        "id": "GPfMRJ-0GDYD",
        "colab": {
          "base_uri": "https://localhost:8080/"
        },
        "outputId": "4cb290e5-5ca5-43e5-eddc-4b412c76ec7e"
      },
      "outputs": [
        {
          "output_type": "execute_result",
          "data": {
            "text/plain": [
              "array([1, 7])"
            ]
          },
          "metadata": {},
          "execution_count": 53
        }
      ],
      "source": [
        "#Row 1, columns 0 and 2\n",
        "a[1,[0,2]]"
      ]
    },
    {
      "cell_type": "markdown",
      "metadata": {
        "id": "BhogD0pgGDYD"
      },
      "source": [
        "## Accessing subparts of arrays\n",
        "\n",
        "First we create a 2D array\n"
      ]
    },
    {
      "cell_type": "code",
      "execution_count": 59,
      "metadata": {
        "id": "gUjb-BGkGDYD",
        "colab": {
          "base_uri": "https://localhost:8080/"
        },
        "outputId": "81a21720-0858-4567-f68a-ffa42ef4ebcd"
      },
      "outputs": [
        {
          "output_type": "execute_result",
          "data": {
            "text/plain": [
              "array([[1, 2, 3, 4, 5],\n",
              "       [2, 3, 4, 5, 6],\n",
              "       [3, 4, 5, 6, 7]])"
            ]
          },
          "metadata": {},
          "execution_count": 59
        }
      ],
      "source": [
        "a1 = np.arange(1, 6, 1)\n",
        "a2 = np.arange(2, 7, 1)\n",
        "a3 = np.arange(3, 8, 1)\n",
        "a = np.row_stack ((a1, a2, a3))\n",
        "a\n"
      ]
    },
    {
      "cell_type": "markdown",
      "metadata": {
        "id": "4CW7UH3oGDYD"
      },
      "source": [
        "![base.png](data:image/png;base64,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)"
      ]
    },
    {
      "cell_type": "markdown",
      "metadata": {
        "id": "tbzyRYgmGDYE"
      },
      "source": [
        "Say we want first two rows:\n",
        "\n",
        "Will this work?"
      ]
    },
    {
      "cell_type": "code",
      "execution_count": 62,
      "metadata": {
        "id": "JSgu11QNGDYE",
        "colab": {
          "base_uri": "https://localhost:8080/"
        },
        "outputId": "ae089799-eb2b-41d0-cdfa-261f8968cc1a"
      },
      "outputs": [
        {
          "output_type": "execute_result",
          "data": {
            "text/plain": [
              "array([[2, 3, 4, 5, 6],\n",
              "       [3, 4, 5, 6, 7]])"
            ]
          },
          "metadata": {},
          "execution_count": 62
        }
      ],
      "source": [
        "a[1:,]\n"
      ]
    },
    {
      "cell_type": "code",
      "source": [
        "a[1,1]"
      ],
      "metadata": {
        "colab": {
          "base_uri": "https://localhost:8080/"
        },
        "id": "r7PK_YUFP1Jo",
        "outputId": "9daa39e8-fb26-4ff7-d4a2-a771df68e018"
      },
      "execution_count": 60,
      "outputs": [
        {
          "output_type": "execute_result",
          "data": {
            "text/plain": [
              "3"
            ]
          },
          "metadata": {},
          "execution_count": 60
        }
      ]
    },
    {
      "cell_type": "code",
      "source": [
        "a[1]"
      ],
      "metadata": {
        "colab": {
          "base_uri": "https://localhost:8080/"
        },
        "id": "o1Y41OzrQFhz",
        "outputId": "a78f60f1-4c70-42ec-f2ba-f17224040100"
      },
      "execution_count": 61,
      "outputs": [
        {
          "output_type": "execute_result",
          "data": {
            "text/plain": [
              "array([2, 3, 4, 5, 6])"
            ]
          },
          "metadata": {},
          "execution_count": 61
        }
      ]
    },
    {
      "cell_type": "code",
      "execution_count": 63,
      "metadata": {
        "id": "nPedsWYfGDYE",
        "colab": {
          "base_uri": "https://localhost:8080/"
        },
        "outputId": "304d8de9-e4ff-41fe-8654-ab0bb92d15ec"
      },
      "outputs": [
        {
          "output_type": "execute_result",
          "data": {
            "text/plain": [
              "array([[2, 3, 4, 5, 6],\n",
              "       [3, 4, 5, 6, 7]])"
            ]
          },
          "metadata": {},
          "execution_count": 63
        }
      ],
      "source": [
        "a[1:]"
      ]
    },
    {
      "cell_type": "code",
      "source": [
        "a[:,1]"
      ],
      "metadata": {
        "colab": {
          "base_uri": "https://localhost:8080/"
        },
        "id": "uJzRnEQtQNIs",
        "outputId": "0b6fc301-dcd1-4871-9d01-ceb6aacd216d"
      },
      "execution_count": 65,
      "outputs": [
        {
          "output_type": "execute_result",
          "data": {
            "text/plain": [
              "array([2, 3, 4])"
            ]
          },
          "metadata": {},
          "execution_count": 65
        }
      ]
    },
    {
      "cell_type": "markdown",
      "metadata": {
        "id": "g9UuWlj3GDYE"
      },
      "source": [
        "Remeber that indices start with 0\n",
        "\n",
        "Gets rows 1, 2, and so on"
      ]
    },
    {
      "cell_type": "markdown",
      "metadata": {
        "id": "wh7jMSX0GDYE"
      },
      "source": [
        "![row1-end.png](data:image/png;base64,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)"
      ]
    },
    {
      "cell_type": "markdown",
      "metadata": {
        "id": "v-7e9l4VGDYE"
      },
      "source": [
        "Say we want the last row:\n",
        "\n"
      ]
    },
    {
      "cell_type": "markdown",
      "metadata": {
        "id": "S8AVFqZ5GDYE"
      },
      "source": [
        "![base.png](data:image/png;base64,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)"
      ]
    },
    {
      "cell_type": "code",
      "execution_count": 66,
      "metadata": {
        "id": "b8aEZUGUGDYF",
        "colab": {
          "base_uri": "https://localhost:8080/"
        },
        "outputId": "e20dfd30-1d92-45d8-9352-923184e20a5a"
      },
      "outputs": [
        {
          "output_type": "execute_result",
          "data": {
            "text/plain": [
              "array([[3, 4, 5, 6, 7]])"
            ]
          },
          "metadata": {},
          "execution_count": 66
        }
      ],
      "source": [
        "a[2:3,]\n"
      ]
    },
    {
      "cell_type": "markdown",
      "metadata": {
        "id": "IBR8bT9EGDYF"
      },
      "source": [
        "or"
      ]
    },
    {
      "cell_type": "code",
      "execution_count": 67,
      "metadata": {
        "id": "_39hyg64GDYF",
        "colab": {
          "base_uri": "https://localhost:8080/"
        },
        "outputId": "78deefe8-0a64-46ef-8916-80f38b3b23df"
      },
      "outputs": [
        {
          "output_type": "execute_result",
          "data": {
            "text/plain": [
              "array([[3, 4, 5, 6, 7]])"
            ]
          },
          "metadata": {},
          "execution_count": 67
        }
      ],
      "source": [
        " a[2:3]"
      ]
    },
    {
      "cell_type": "markdown",
      "metadata": {
        "id": "Cj6ftWA0GDYF"
      },
      "source": [
        "![row2-3.png](data:image/png;base64,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)"
      ]
    },
    {
      "cell_type": "markdown",
      "metadata": {
        "id": "YOBHMnRvGDYF"
      },
      "source": [
        "Note: still a 2D array.  Want a vector?\n",
        "\n",
        "\n"
      ]
    },
    {
      "cell_type": "code",
      "source": [
        "#非vector\n",
        "a[2:3]"
      ],
      "metadata": {
        "colab": {
          "base_uri": "https://localhost:8080/"
        },
        "id": "QGIfSb13QtvI",
        "outputId": "fa63b7c6-45ee-4464-9272-a5b1e3a47b26"
      },
      "execution_count": 69,
      "outputs": [
        {
          "output_type": "execute_result",
          "data": {
            "text/plain": [
              "array([[3, 4, 5, 6, 7]])"
            ]
          },
          "metadata": {},
          "execution_count": 69
        }
      ]
    },
    {
      "cell_type": "code",
      "execution_count": 68,
      "metadata": {
        "id": "w_sFiDFaGDYF",
        "colab": {
          "base_uri": "https://localhost:8080/"
        },
        "outputId": "b11958b0-ecc4-4f44-8d3e-d016c26b81fd"
      },
      "outputs": [
        {
          "output_type": "execute_result",
          "data": {
            "text/plain": [
              "array([3, 4, 5, 6, 7])"
            ]
          },
          "metadata": {},
          "execution_count": 68
        }
      ],
      "source": [
        "a[2:3][0]"
      ]
    },
    {
      "cell_type": "markdown",
      "metadata": {
        "id": "-l6mtn18GDYF"
      },
      "source": [
        "Now we want the second & third columns:"
      ]
    },
    {
      "cell_type": "markdown",
      "metadata": {
        "id": "Z6ersF-7GDYF"
      },
      "source": [
        "![base.png](data:image/png;base64,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)"
      ]
    },
    {
      "cell_type": "code",
      "execution_count": 70,
      "metadata": {
        "id": "rXfIv1z8GDYG",
        "colab": {
          "base_uri": "https://localhost:8080/"
        },
        "outputId": "02cb510a-8cb7-4e66-b90a-96ddabae481e"
      },
      "outputs": [
        {
          "output_type": "execute_result",
          "data": {
            "text/plain": [
              "array([[2, 3],\n",
              "       [3, 4],\n",
              "       [4, 5]])"
            ]
          },
          "metadata": {},
          "execution_count": 70
        }
      ],
      "source": [
        "a[:,1:3]"
      ]
    },
    {
      "cell_type": "markdown",
      "metadata": {
        "id": "s8vxzj7lGDYG"
      },
      "source": [
        "![col.png](data:image/png;base64,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)"
      ]
    },
    {
      "cell_type": "code",
      "execution_count": 71,
      "metadata": {
        "id": "2ogzC0UwGDYG",
        "colab": {
          "base_uri": "https://localhost:8080/"
        },
        "outputId": "a1884f26-1b15-419a-f959-51a427f75793"
      },
      "outputs": [
        {
          "output_type": "execute_result",
          "data": {
            "text/plain": [
              "array([[2, 3],\n",
              "       [3, 4],\n",
              "       [4, 5]])"
            ]
          },
          "metadata": {},
          "execution_count": 71
        }
      ],
      "source": [
        " a[:,np.array((1,2))]\n"
      ]
    },
    {
      "cell_type": "code",
      "source": [
        "a[:,np.arange(1,4,1)]"
      ],
      "metadata": {
        "colab": {
          "base_uri": "https://localhost:8080/"
        },
        "id": "Rc8e45XbRE3c",
        "outputId": "95ff8290-057e-4fa1-ea1a-ed1bca3be92b"
      },
      "execution_count": 75,
      "outputs": [
        {
          "output_type": "execute_result",
          "data": {
            "text/plain": [
              "array([[2, 3, 4],\n",
              "       [3, 4, 5],\n",
              "       [4, 5, 6]])"
            ]
          },
          "metadata": {},
          "execution_count": 75
        }
      ]
    },
    {
      "cell_type": "markdown",
      "metadata": {
        "id": "evYHe4LMGDYG"
      },
      "source": [
        "### Create a 3D array\n",
        "\n",
        "From a 3D python list"
      ]
    },
    {
      "cell_type": "code",
      "execution_count": 77,
      "metadata": {
        "id": "Zk-JwYJWGDYG",
        "colab": {
          "base_uri": "https://localhost:8080/"
        },
        "outputId": "b4b0be1c-674b-4f64-a80d-7eeb1f58b668"
      },
      "outputs": [
        {
          "output_type": "execute_result",
          "data": {
            "text/plain": [
              "array([[[0, 8, 5],\n",
              "        [1, 4, 7]],\n",
              "\n",
              "       [[2, 3, 1],\n",
              "        [0, 4, 9]],\n",
              "\n",
              "       [[9, 3, 5],\n",
              "        [0, 6, 7]]])"
            ]
          },
          "metadata": {},
          "execution_count": 77
        }
      ],
      "source": [
        "a = np.array([[[0,8,5],[1,4,7]],[[2,3,1],[0,4,9]],[[9,3,5],[0,6,7]]])\n",
        "a"
      ]
    },
    {
      "cell_type": "markdown",
      "metadata": {
        "id": "B9LZ43izGDYG"
      },
      "source": [
        "### 3D array selection\n"
      ]
    },
    {
      "cell_type": "code",
      "execution_count": 78,
      "metadata": {
        "id": "RrznAAoTGDYG",
        "colab": {
          "base_uri": "https://localhost:8080/"
        },
        "outputId": "6031d5a6-4d05-41a7-a848-5f12a64f5c3f"
      },
      "outputs": [
        {
          "output_type": "execute_result",
          "data": {
            "text/plain": [
              "9"
            ]
          },
          "metadata": {},
          "execution_count": 78
        }
      ],
      "source": [
        "# By indices\n",
        "a[1, 1, 2]"
      ]
    },
    {
      "cell_type": "code",
      "source": [
        "a[1][1][2]"
      ],
      "metadata": {
        "colab": {
          "base_uri": "https://localhost:8080/"
        },
        "id": "K5Kislu8RmmN",
        "outputId": "7798fc48-ed59-4ab4-fc85-1956623af00b"
      },
      "execution_count": 79,
      "outputs": [
        {
          "output_type": "execute_result",
          "data": {
            "text/plain": [
              "9"
            ]
          },
          "metadata": {},
          "execution_count": 79
        }
      ]
    },
    {
      "cell_type": "code",
      "execution_count": 80,
      "metadata": {
        "id": "voQ2RNjuGDYH",
        "colab": {
          "base_uri": "https://localhost:8080/"
        },
        "outputId": "9013ac41-4c85-4414-d354-002e5b24a8c5"
      },
      "outputs": [
        {
          "output_type": "execute_result",
          "data": {
            "text/plain": [
              "array([[[2, 3],\n",
              "        [0, 4]],\n",
              "\n",
              "       [[9, 3],\n",
              "        [0, 6]]])"
            ]
          },
          "metadata": {},
          "execution_count": 80
        }
      ],
      "source": [
        "# By slice\n",
        "# a[depth 1+, all rows, columns < 2]\n",
        "a[1: ,: , :2]\n"
      ]
    },
    {
      "cell_type": "code",
      "execution_count": 81,
      "metadata": {
        "id": "gKu-eWhKGDYH",
        "colab": {
          "base_uri": "https://localhost:8080/"
        },
        "outputId": "e3278115-aea0-4170-e68e-cdb8cd7f82f5"
      },
      "outputs": [
        {
          "output_type": "execute_result",
          "data": {
            "text/plain": [
              "array([7, 9, 4])"
            ]
          },
          "metadata": {},
          "execution_count": 81
        }
      ],
      "source": [
        "# By list of indices\n",
        "# (0,1,2), (2,0,0), (1,1,1)\n",
        "a[[0,2,1],[1,0,1],[2,0,1]]\n"
      ]
    },
    {
      "cell_type": "code",
      "execution_count": 82,
      "metadata": {
        "id": "4hUnXPY_GDYH",
        "colab": {
          "base_uri": "https://localhost:8080/"
        },
        "outputId": "7b02d20c-993d-482f-b3b0-231a108c0c14"
      },
      "outputs": [
        {
          "output_type": "execute_result",
          "data": {
            "text/plain": [
              "array([[[0, 8, 5],\n",
              "        [1, 4, 7]],\n",
              "\n",
              "       [[9, 3, 5],\n",
              "        [0, 6, 7]]])"
            ]
          },
          "metadata": {},
          "execution_count": 82
        }
      ],
      "source": [
        "#depths 0 and 2\n",
        "#all rows and columns\n",
        "a[[0,2],:,:]"
      ]
    },
    {
      "cell_type": "code",
      "execution_count": 83,
      "metadata": {
        "id": "Yy-aC49vGDYH",
        "colab": {
          "base_uri": "https://localhost:8080/"
        },
        "outputId": "f67f674a-95b6-4810-b3ad-cde4e25fdb15"
      },
      "outputs": [
        {
          "output_type": "execute_result",
          "data": {
            "text/plain": [
              "array([[0, 1],\n",
              "       [5, 7]])"
            ]
          },
          "metadata": {},
          "execution_count": 83
        }
      ],
      "source": [
        "#depths 0 and 2\n",
        "#all rows\n",
        "#column 0 from depth 0\n",
        "#column 2 from depth 2\n",
        "\n",
        "a[[0,2],:,[0,2]]"
      ]
    },
    {
      "cell_type": "code",
      "execution_count": 84,
      "metadata": {
        "id": "KREEzPeIGDYI",
        "colab": {
          "base_uri": "https://localhost:8080/"
        },
        "outputId": "64dc3a05-66a7-4f0c-c1fd-1c3e75704e38"
      },
      "outputs": [
        {
          "output_type": "execute_result",
          "data": {
            "text/plain": [
              "array([1, 7])"
            ]
          },
          "metadata": {},
          "execution_count": 84
        }
      ],
      "source": [
        "#depths 0 and 2\n",
        "#row 1\n",
        "#column 0 from depth 0\n",
        "#column 2 from depth 2\n",
        "a[[0,2],1,[0,2]]"
      ]
    },
    {
      "cell_type": "markdown",
      "metadata": {
        "id": "Y4wtP9-SGDYI"
      },
      "source": [
        "### Get a tuple of array dimensions\n"
      ]
    },
    {
      "cell_type": "code",
      "execution_count": 85,
      "metadata": {
        "id": "Uv_Gbk9QGDYI",
        "colab": {
          "base_uri": "https://localhost:8080/"
        },
        "outputId": "ea289345-43ff-4774-d7a3-9802803d963d"
      },
      "outputs": [
        {
          "output_type": "execute_result",
          "data": {
            "text/plain": [
              "(5,)"
            ]
          },
          "metadata": {},
          "execution_count": 85
        }
      ],
      "source": [
        "#1D\n",
        "arr1 = np.array([2, 3, 4, 5, 6])\n",
        "arr1.shape"
      ]
    },
    {
      "cell_type": "code",
      "execution_count": 86,
      "metadata": {
        "id": "4_vJNF_LGDYI",
        "colab": {
          "base_uri": "https://localhost:8080/"
        },
        "outputId": "51270dcc-9fbd-4518-b63f-e41c1cd0d40d"
      },
      "outputs": [
        {
          "output_type": "execute_result",
          "data": {
            "text/plain": [
              "(2, 3)"
            ]
          },
          "metadata": {},
          "execution_count": 86
        }
      ],
      "source": [
        "#2D\n",
        "arr2 = np.array([[0, 8, 5], [1, 4, 7]]) \n",
        "arr2.shape"
      ]
    },
    {
      "cell_type": "code",
      "execution_count": 87,
      "metadata": {
        "id": "eItbqQ2uGDYI",
        "colab": {
          "base_uri": "https://localhost:8080/"
        },
        "outputId": "36d7507e-8f76-4930-9f90-bc92e2cec8c3"
      },
      "outputs": [
        {
          "output_type": "execute_result",
          "data": {
            "text/plain": [
              "array([[[0, 8, 5, 3],\n",
              "        [1, 4, 7, 2]],\n",
              "\n",
              "       [[2, 3, 1, 0],\n",
              "        [0, 4, 9, 9]],\n",
              "\n",
              "       [[9, 3, 5, 2],\n",
              "        [0, 6, 7, 5]]])"
            ]
          },
          "metadata": {},
          "execution_count": 87
        }
      ],
      "source": [
        "#3D\n",
        "arr3 = np.array([[[0,8,5, 3],[1,4,7, 2]],[[2,3,1, 0],[0,4,9,9]],[[9,3,5,2],[0,6,7,5]]])\n",
        "arr3"
      ]
    },
    {
      "cell_type": "code",
      "execution_count": 88,
      "metadata": {
        "id": "aRB_R5BrGDYJ",
        "colab": {
          "base_uri": "https://localhost:8080/"
        },
        "outputId": "554220e9-2408-436b-8d8d-48762771ec92"
      },
      "outputs": [
        {
          "output_type": "execute_result",
          "data": {
            "text/plain": [
              "(3, 2, 4)"
            ]
          },
          "metadata": {},
          "execution_count": 88
        }
      ],
      "source": [
        "arr3.shape"
      ]
    },
    {
      "cell_type": "markdown",
      "metadata": {
        "id": "6g2ZNQoaGDYJ"
      },
      "source": [
        "### Creating and filling multi-dimensional arrays\n",
        "\n",
        "First, let's create a 2 x 5 array filled with 3.14"
      ]
    },
    {
      "cell_type": "code",
      "execution_count": 89,
      "metadata": {
        "id": "pmSU-2JRGDYJ",
        "colab": {
          "base_uri": "https://localhost:8080/"
        },
        "outputId": "82f1dbb1-78f0-4e11-d059-7c76bbfee5ca"
      },
      "outputs": [
        {
          "output_type": "execute_result",
          "data": {
            "text/plain": [
              "array([[3.14, 3.14, 3.14, 3.14, 3.14],\n",
              "       [3.14, 3.14, 3.14, 3.14, 3.14]])"
            ]
          },
          "metadata": {},
          "execution_count": 89
        }
      ],
      "source": [
        "np.full((2, 5), 3.14)"
      ]
    },
    {
      "cell_type": "code",
      "execution_count": 90,
      "metadata": {
        "id": "oz3Cxi0gGDYJ",
        "colab": {
          "base_uri": "https://localhost:8080/"
        },
        "outputId": "a8d1c62f-ce4a-4f56-cdd0-a88df20118a7"
      },
      "outputs": [
        {
          "output_type": "execute_result",
          "data": {
            "text/plain": [
              "array([[[0., 0., 0., 0., 0.],\n",
              "        [0., 0., 0., 0., 0.]],\n",
              "\n",
              "       [[0., 0., 0., 0., 0.],\n",
              "        [0., 0., 0., 0., 0.]],\n",
              "\n",
              "       [[0., 0., 0., 0., 0.],\n",
              "        [0., 0., 0., 0., 0.]]])"
            ]
          },
          "metadata": {},
          "execution_count": 90
        }
      ],
      "source": [
        "# and fill a 3 x 2 x 5 array filled with zeros\n",
        "np.zeros((3, 2, 5))"
      ]
    },
    {
      "cell_type": "markdown",
      "metadata": {
        "id": "BnOKtKiyGDYJ"
      },
      "source": [
        "### Aggregations Over Arrays\n",
        "\n",
        "\n"
      ]
    },
    {
      "cell_type": "code",
      "execution_count": 91,
      "metadata": {
        "id": "a58lHH9qGDYK",
        "colab": {
          "base_uri": "https://localhost:8080/"
        },
        "outputId": "0f24ccff-850d-4e62-8a85-c578c94a7a34"
      },
      "outputs": [
        {
          "output_type": "execute_result",
          "data": {
            "text/plain": [
              "array([1, 2, 3, 4, 5])"
            ]
          },
          "metadata": {},
          "execution_count": 91
        }
      ],
      "source": [
        "a = np.arange(1, 6, 1)\n",
        "a"
      ]
    },
    {
      "cell_type": "code",
      "execution_count": 92,
      "metadata": {
        "id": "VANA48iEGDYK",
        "colab": {
          "base_uri": "https://localhost:8080/"
        },
        "outputId": "e30dbcc0-34fa-47cd-b337-5b59275c7386"
      },
      "outputs": [
        {
          "output_type": "execute_result",
          "data": {
            "text/plain": [
              "15"
            ]
          },
          "metadata": {},
          "execution_count": 92
        }
      ],
      "source": [
        "# convert to a scalar\n",
        "a.sum(0)\n"
      ]
    },
    {
      "cell_type": "code",
      "execution_count": 93,
      "metadata": {
        "id": "ocyO6M3IGDYK",
        "colab": {
          "base_uri": "https://localhost:8080/"
        },
        "outputId": "005a8ed9-7675-4b1e-c6e5-ef9e4de00f28"
      },
      "outputs": [
        {
          "output_type": "execute_result",
          "data": {
            "text/plain": [
              "5"
            ]
          },
          "metadata": {},
          "execution_count": 93
        }
      ],
      "source": [
        "# find the max\n",
        "a.max(0)"
      ]
    },
    {
      "cell_type": "code",
      "execution_count": 94,
      "metadata": {
        "id": "q1tzHCiqGDYK",
        "colab": {
          "base_uri": "https://localhost:8080/"
        },
        "outputId": "3e782a9c-0900-4d80-c8d3-8174b82ebfb5"
      },
      "outputs": [
        {
          "output_type": "execute_result",
          "data": {
            "text/plain": [
              "4"
            ]
          },
          "metadata": {},
          "execution_count": 94
        }
      ],
      "source": [
        "# find the position of the max value\n",
        "a.argmax(0)"
      ]
    },
    {
      "cell_type": "markdown",
      "metadata": {
        "id": "W-yWkbUDGDYK"
      },
      "source": [
        "### 2D arrays\n",
        "#### Sum along dimension(s)\n"
      ]
    },
    {
      "cell_type": "code",
      "execution_count": 106,
      "metadata": {
        "id": "Mxh2rd_GGDYK",
        "colab": {
          "base_uri": "https://localhost:8080/"
        },
        "outputId": "2a3daa74-63ee-4518-8f28-07dc0e600720"
      },
      "outputs": [
        {
          "output_type": "execute_result",
          "data": {
            "text/plain": [
              "array([[1, 2, 3, 4, 5],\n",
              "       [2, 3, 4, 5, 6],\n",
              "       [3, 4, 5, 6, 7]])"
            ]
          },
          "metadata": {},
          "execution_count": 106
        }
      ],
      "source": [
        "a1 = np.array([ 1, 2,  3, 4, 5])\n",
        "a2 = np.array([ 2, 3,  4, 5, 6])\n",
        "a3 = np.array([ 3, 4,  5, 6, 7])\n",
        "a = np.row_stack ((a1, a2, a3))\n",
        "a    \n"
      ]
    },
    {
      "cell_type": "markdown",
      "metadata": {
        "id": "OOfNVQ38GDYL"
      },
      "source": [
        "![base.png](data:image/png;base64,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)\n"
      ]
    },
    {
      "cell_type": "code",
      "execution_count": 96,
      "metadata": {
        "id": "O8M9uoGOGDYL",
        "colab": {
          "base_uri": "https://localhost:8080/"
        },
        "outputId": "d0f1ee1a-58a3-4b72-b230-89e7eabd62cf"
      },
      "outputs": [
        {
          "output_type": "execute_result",
          "data": {
            "text/plain": [
              "array([ 6,  9, 12, 15, 18])"
            ]
          },
          "metadata": {},
          "execution_count": 96
        }
      ],
      "source": [
        "# convert 2D array in to 1D\n",
        "# collapse along axis 0 (rows) and sum the values\n",
        "a.sum (0)"
      ]
    },
    {
      "cell_type": "markdown",
      "metadata": {
        "id": "pkVjaR_XGDYL"
      },
      "source": [
        "![sum0.png](data:image/png;base64,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)"
      ]
    },
    {
      "cell_type": "code",
      "execution_count": 97,
      "metadata": {
        "id": "PCUM6wAgGDYL",
        "colab": {
          "base_uri": "https://localhost:8080/"
        },
        "outputId": "bdc7f223-262c-4a21-8f58-f49a729cb5ae"
      },
      "outputs": [
        {
          "output_type": "execute_result",
          "data": {
            "text/plain": [
              "array([15, 20, 25])"
            ]
          },
          "metadata": {},
          "execution_count": 97
        }
      ],
      "source": [
        "# collapse along axis 1 (columns) and sum the values\n",
        "a.sum(1)"
      ]
    },
    {
      "cell_type": "markdown",
      "metadata": {
        "id": "0vnMTGm_GDYL"
      },
      "source": [
        "![sum1.png](data:image/png;base64,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)"
      ]
    },
    {
      "cell_type": "code",
      "source": [
        "a.argmax(0)"
      ],
      "metadata": {
        "colab": {
          "base_uri": "https://localhost:8080/"
        },
        "id": "R-kZwVVBUofb",
        "outputId": "6d1cd9bb-939d-4769-a735-7403cad4f362"
      },
      "execution_count": 98,
      "outputs": [
        {
          "output_type": "execute_result",
          "data": {
            "text/plain": [
              "array([2, 2, 2, 2, 2])"
            ]
          },
          "metadata": {},
          "execution_count": 98
        }
      ]
    },
    {
      "cell_type": "code",
      "source": [
        "a.argmax(1)"
      ],
      "metadata": {
        "colab": {
          "base_uri": "https://localhost:8080/"
        },
        "id": "C4JLN2YuU4SD",
        "outputId": "37fa7af6-5cfa-4a0c-9fb5-32f0cb5c38a4"
      },
      "execution_count": 99,
      "outputs": [
        {
          "output_type": "execute_result",
          "data": {
            "text/plain": [
              "array([4, 4, 4])"
            ]
          },
          "metadata": {},
          "execution_count": 99
        }
      ]
    },
    {
      "cell_type": "code",
      "source": [
        "a.argmax()"
      ],
      "metadata": {
        "colab": {
          "base_uri": "https://localhost:8080/"
        },
        "id": "jysy62SxVOyw",
        "outputId": "d6cfb589-5aeb-4638-ead3-4c3b0dfaa9c6"
      },
      "execution_count": 107,
      "outputs": [
        {
          "output_type": "execute_result",
          "data": {
            "text/plain": [
              "14"
            ]
          },
          "metadata": {},
          "execution_count": 107
        }
      ]
    },
    {
      "cell_type": "markdown",
      "metadata": {
        "id": "izgI1xhUGDYL"
      },
      "source": [
        "### 2D arrays\n"
      ]
    },
    {
      "cell_type": "code",
      "execution_count": 110,
      "metadata": {
        "id": "ryhTfqhIGDYM",
        "colab": {
          "base_uri": "https://localhost:8080/"
        },
        "outputId": "cc6dd95e-2a73-4404-e006-56abac6e8504"
      },
      "outputs": [
        {
          "output_type": "execute_result",
          "data": {
            "text/plain": [
              "array([[10,  2,  3,  4,  5],\n",
              "       [ 2,  3, 13,  5,  6],\n",
              "       [ 3,  4,  5,  6,  7]])"
            ]
          },
          "metadata": {},
          "execution_count": 110
        }
      ],
      "source": [
        "a1 = np.array([10, 2,  3, 4, 5])\n",
        "a2 = np.array([ 2, 3,  13, 5, 6])\n",
        "a3 = np.array([ 3, 4,  5, 6, 7])\n",
        "a = np.row_stack ((a1, a2, a3))\n",
        "a    \n"
      ]
    },
    {
      "cell_type": "code",
      "execution_count": 111,
      "metadata": {
        "id": "DNwKUMkqGDYM",
        "colab": {
          "base_uri": "https://localhost:8080/"
        },
        "outputId": "ac10b46c-c6f8-44cc-a1ab-9654bbe51c41"
      },
      "outputs": [
        {
          "output_type": "execute_result",
          "data": {
            "text/plain": [
              "13"
            ]
          },
          "metadata": {},
          "execution_count": 111
        }
      ],
      "source": [
        "# Find the maximum \n",
        "a.max()"
      ]
    },
    {
      "cell_type": "code",
      "execution_count": 112,
      "metadata": {
        "id": "Swdk1_T-GDYM",
        "colab": {
          "base_uri": "https://localhost:8080/"
        },
        "outputId": "ef62daaf-d3f5-4b6d-dbee-f64279192a53"
      },
      "outputs": [
        {
          "output_type": "execute_result",
          "data": {
            "text/plain": [
              "array([10,  4, 13,  6,  7])"
            ]
          },
          "metadata": {},
          "execution_count": 112
        }
      ],
      "source": [
        "# Get the max values along the row axis\n",
        "a.max(0)"
      ]
    },
    {
      "cell_type": "code",
      "execution_count": 113,
      "metadata": {
        "colab": {
          "base_uri": "https://localhost:8080/"
        },
        "id": "AlSHVYquwjWt",
        "outputId": "5c4b595f-b898-4d4e-8881-89c050d776a9"
      },
      "outputs": [
        {
          "output_type": "execute_result",
          "data": {
            "text/plain": [
              "array([10, 13,  7])"
            ]
          },
          "metadata": {},
          "execution_count": 113
        }
      ],
      "source": [
        "# Get the max values along the column axis\n",
        "a.max(1)"
      ]
    },
    {
      "cell_type": "code",
      "execution_count": 114,
      "metadata": {
        "id": "AsE3huYGGDYN",
        "colab": {
          "base_uri": "https://localhost:8080/"
        },
        "outputId": "580231c1-cce9-4656-ebd9-ef067b39718b"
      },
      "outputs": [
        {
          "output_type": "execute_result",
          "data": {
            "text/plain": [
              "7"
            ]
          },
          "metadata": {},
          "execution_count": 114
        }
      ],
      "source": [
        "# Get the position of the max value\n",
        "a.argmax()\n"
      ]
    },
    {
      "cell_type": "code",
      "execution_count": 116,
      "metadata": {
        "id": "iTZn-nM3GDYN",
        "colab": {
          "base_uri": "https://localhost:8080/"
        },
        "outputId": "2c36c199-6354-47aa-a781-d592a7fb418f"
      },
      "outputs": [
        {
          "output_type": "execute_result",
          "data": {
            "text/plain": [
              "array([0, 2, 1, 2, 2])"
            ]
          },
          "metadata": {},
          "execution_count": 116
        }
      ],
      "source": [
        "# Get the position of the max value along the row axis\n",
        "a.argmax(0)\n"
      ]
    },
    {
      "cell_type": "code",
      "execution_count": 117,
      "metadata": {
        "id": "k1vMVIRcGDYN",
        "colab": {
          "base_uri": "https://localhost:8080/"
        },
        "outputId": "f1aa29de-9739-4c99-a2ec-b6243646431f"
      },
      "outputs": [
        {
          "output_type": "execute_result",
          "data": {
            "text/plain": [
              "array([0, 2, 4])"
            ]
          },
          "metadata": {},
          "execution_count": 117
        }
      ],
      "source": [
        "# Get the position of the max value along the column axis\n",
        "a.argmax(1)\n"
      ]
    },
    {
      "cell_type": "markdown",
      "metadata": {
        "id": "lcwF6ZBtGDYO"
      },
      "source": [
        "### 3D arrays\n"
      ]
    },
    {
      "cell_type": "code",
      "execution_count": 3,
      "metadata": {
        "id": "PtNxnd2eGDYO",
        "colab": {
          "base_uri": "https://localhost:8080/"
        },
        "outputId": "145b9f58-74dc-46b0-8b9c-ebd3da4e54b3"
      },
      "outputs": [
        {
          "output_type": "execute_result",
          "data": {
            "text/plain": [
              "array([[[0, 8, 5],\n",
              "        [1, 4, 7]],\n",
              "\n",
              "       [[2, 3, 1],\n",
              "        [0, 4, 9]],\n",
              "\n",
              "       [[9, 3, 5],\n",
              "        [0, 6, 7]]])"
            ]
          },
          "metadata": {},
          "execution_count": 3
        }
      ],
      "source": [
        "a = np.array([[[0, 8, 5],[1, 4, 7]],\n",
        "              [[2, 3, 1],[0, 4, 9]],\n",
        "              [[9, 3, 5],[0, 6, 7]]])\n",
        "a"
      ]
    },
    {
      "cell_type": "markdown",
      "source": [
        "说明一下，对于0，指的是depth，sum(0)指的是固定row和col不变，改变depth，不同的depth相同的row和col被求和"
      ],
      "metadata": {
        "id": "bsfVxNpuKp2u"
      }
    },
    {
      "cell_type": "code",
      "execution_count": 4,
      "metadata": {
        "id": "FIpqAZHMGDYO",
        "colab": {
          "base_uri": "https://localhost:8080/"
        },
        "outputId": "fcf32f74-a058-4681-d1b5-9c82043f9e06"
      },
      "outputs": [
        {
          "output_type": "execute_result",
          "data": {
            "text/plain": [
              "array([[11, 14, 11],\n",
              "       [ 1, 14, 23]])"
            ]
          },
          "metadata": {},
          "execution_count": 4
        }
      ],
      "source": [
        "# Collapse the array along the depth (axis = 0) and sum the values (reduces the depth dimension)\n",
        "a.sum(0)"
      ]
    },
    {
      "cell_type": "code",
      "execution_count": 5,
      "metadata": {
        "id": "v_uMc8YAGDYO",
        "colab": {
          "base_uri": "https://localhost:8080/"
        },
        "outputId": "e87d9791-b931-48c8-c26e-5b1daab31c07"
      },
      "outputs": [
        {
          "output_type": "execute_result",
          "data": {
            "text/plain": [
              "array([[ 1, 12, 12],\n",
              "       [ 2,  7, 10],\n",
              "       [ 9,  9, 12]])"
            ]
          },
          "metadata": {},
          "execution_count": 5
        }
      ],
      "source": [
        "# Collapse the array along the rows (axis = 1) and sum the values (reduces the row dimension)\n",
        "a.sum(1)"
      ]
    },
    {
      "cell_type": "code",
      "execution_count": 6,
      "metadata": {
        "id": "namg2vQBGDYO",
        "colab": {
          "base_uri": "https://localhost:8080/"
        },
        "outputId": "1b5c9e49-1bc0-4ab7-f29c-fbb8dc2fac4d"
      },
      "outputs": [
        {
          "output_type": "execute_result",
          "data": {
            "text/plain": [
              "array([[13, 12],\n",
              "       [ 6, 13],\n",
              "       [17, 13]])"
            ]
          },
          "metadata": {},
          "execution_count": 6
        }
      ],
      "source": [
        "# Collapse the array along the columns (axis = 2) and sum the values (reduces the column dimension)\n",
        "a.sum(2)"
      ]
    },
    {
      "cell_type": "code",
      "execution_count": 7,
      "metadata": {
        "id": "xC7jeo47GDYP",
        "colab": {
          "base_uri": "https://localhost:8080/"
        },
        "outputId": "1744da54-cb3c-4cdb-eccd-1bdf4dd1677b"
      },
      "outputs": [
        {
          "output_type": "execute_result",
          "data": {
            "text/plain": [
              "array([[9, 8, 5],\n",
              "       [1, 6, 9]])"
            ]
          },
          "metadata": {},
          "execution_count": 7
        }
      ],
      "source": [
        "# Max along dimension(s) \n",
        "a.max(0)"
      ]
    },
    {
      "cell_type": "code",
      "execution_count": 8,
      "metadata": {
        "id": "uGmbMjoxGDYP",
        "colab": {
          "base_uri": "https://localhost:8080/"
        },
        "outputId": "c497cab3-72e6-481a-ed62-4b31cb957c99"
      },
      "outputs": [
        {
          "output_type": "execute_result",
          "data": {
            "text/plain": [
              "array([[1, 8, 7],\n",
              "       [2, 4, 9],\n",
              "       [9, 6, 7]])"
            ]
          },
          "metadata": {},
          "execution_count": 8
        }
      ],
      "source": [
        "a.max(1)"
      ]
    },
    {
      "cell_type": "code",
      "execution_count": 9,
      "metadata": {
        "id": "y9MMcmolGDYP",
        "colab": {
          "base_uri": "https://localhost:8080/"
        },
        "outputId": "58975c12-3385-4768-9f00-69df8ef8d9e1"
      },
      "outputs": [
        {
          "output_type": "execute_result",
          "data": {
            "text/plain": [
              "array([[8, 7],\n",
              "       [3, 9],\n",
              "       [9, 7]])"
            ]
          },
          "metadata": {},
          "execution_count": 9
        }
      ],
      "source": [
        "a.max(2)"
      ]
    },
    {
      "cell_type": "markdown",
      "metadata": {
        "id": "hcj1WtXhGDYP"
      },
      "source": [
        "#### Max position along dimension(s) "
      ]
    },
    {
      "cell_type": "markdown",
      "source": [
        "类似sum"
      ],
      "metadata": {
        "id": "XzqAlJQCLR92"
      }
    },
    {
      "cell_type": "code",
      "execution_count": 10,
      "metadata": {
        "id": "g8OC48QUGDYP",
        "colab": {
          "base_uri": "https://localhost:8080/"
        },
        "outputId": "b8fa31a1-fdaf-4fe2-98ce-d02e657b9ff2"
      },
      "outputs": [
        {
          "output_type": "execute_result",
          "data": {
            "text/plain": [
              "array([[2, 0, 0],\n",
              "       [0, 2, 1]])"
            ]
          },
          "metadata": {},
          "execution_count": 10
        }
      ],
      "source": [
        "a.argmax(0)"
      ]
    },
    {
      "cell_type": "code",
      "execution_count": 11,
      "metadata": {
        "id": "Knt3vRk6GDYQ",
        "colab": {
          "base_uri": "https://localhost:8080/"
        },
        "outputId": "8006f5ea-ceef-4bd1-b063-183736b3aeca"
      },
      "outputs": [
        {
          "output_type": "execute_result",
          "data": {
            "text/plain": [
              "array([[1, 0, 1],\n",
              "       [0, 1, 1],\n",
              "       [0, 1, 1]])"
            ]
          },
          "metadata": {},
          "execution_count": 11
        }
      ],
      "source": [
        "a.argmax(1)"
      ]
    },
    {
      "cell_type": "code",
      "execution_count": 12,
      "metadata": {
        "id": "rQL6RpZ-GDYQ",
        "colab": {
          "base_uri": "https://localhost:8080/"
        },
        "outputId": "0e43dbb4-95af-4668-eeb0-81689e3733e6"
      },
      "outputs": [
        {
          "output_type": "execute_result",
          "data": {
            "text/plain": [
              "array([[1, 2],\n",
              "       [1, 2],\n",
              "       [0, 2]])"
            ]
          },
          "metadata": {},
          "execution_count": 12
        }
      ],
      "source": [
        "a.argmax(2)"
      ]
    },
    {
      "cell_type": "markdown",
      "metadata": {
        "collapsed": true,
        "id": "cBVDEVEJGDYR"
      },
      "source": [
        "## More useful creation examples\n",
        "\n",
        " To create an array with odd numbers thru 10\n",
        "\n"
      ]
    },
    {
      "cell_type": "code",
      "execution_count": 13,
      "metadata": {
        "id": "i8RolAuhGDYR",
        "colab": {
          "base_uri": "https://localhost:8080/"
        },
        "outputId": "90488c96-d902-458e-d627-b47cf3208344"
      },
      "outputs": [
        {
          "output_type": "execute_result",
          "data": {
            "text/plain": [
              "array([1, 3, 5, 7, 9])"
            ]
          },
          "metadata": {},
          "execution_count": 13
        }
      ],
      "source": [
        "#Create an array with odd numbers thru 10\n",
        "a = np.arange(1, 11, 2)\n",
        "a"
      ]
    },
    {
      "cell_type": "markdown",
      "metadata": {
        "id": "FqtYDsEqGDYR"
      },
      "source": [
        "To ``tile`` an array \n",
        "\n",
        "Construct an array by repeating the specified array the number of times given by reps\n",
        "\n"
      ]
    },
    {
      "cell_type": "code",
      "execution_count": 14,
      "metadata": {
        "id": "ZR_LaOd_GDYR",
        "colab": {
          "base_uri": "https://localhost:8080/"
        },
        "outputId": "314fd587-041d-4779-baf9-ff770ea875d2"
      },
      "outputs": [
        {
          "output_type": "execute_result",
          "data": {
            "text/plain": [
              "array([[1, 3, 5, 7, 9, 1, 3, 5, 7, 9]])"
            ]
          },
          "metadata": {},
          "execution_count": 14
        }
      ],
      "source": [
        "np.tile (a, (1, 2))"
      ]
    },
    {
      "cell_type": "code",
      "execution_count": 15,
      "metadata": {
        "id": "u2WSa1h_GDYR",
        "colab": {
          "base_uri": "https://localhost:8080/"
        },
        "outputId": "e05f26ae-6439-4b46-dc22-fcafb37b5fe8"
      },
      "outputs": [
        {
          "output_type": "execute_result",
          "data": {
            "text/plain": [
              "array([[1, 3, 5, 7, 9],\n",
              "       [1, 3, 5, 7, 9]])"
            ]
          },
          "metadata": {},
          "execution_count": 15
        }
      ],
      "source": [
        "np.tile (a, (2, 1))\n"
      ]
    },
    {
      "cell_type": "markdown",
      "metadata": {
        "id": "uYD6x3x3GDYQ"
      },
      "source": [
        "## Other Useful Numpy Functions\n",
        "\n",
        "sqrt -- return an array with the square root of each member of the array\n",
        "\n",
        "square -- return an array with the square of each member of the array\n",
        "\n",
        "vectorize -- evaluate the specified function on the input array\n",
        "\n",
        "where -- returns elements based on a condition \n",
        "\n",
        "nonzero -- return indexes of nonzero elements"
      ]
    },
    {
      "cell_type": "code",
      "execution_count": 16,
      "metadata": {
        "id": "ne435huKGDYQ",
        "colab": {
          "base_uri": "https://localhost:8080/"
        },
        "outputId": "30926b6a-c05e-4453-caad-4fe1fe235334"
      },
      "outputs": [
        {
          "output_type": "execute_result",
          "data": {
            "text/plain": [
              "array([1.        , 1.73205081, 2.23606798, 2.64575131, 3.        ])"
            ]
          },
          "metadata": {},
          "execution_count": 16
        }
      ],
      "source": [
        "np.sqrt(a)\n"
      ]
    },
    {
      "cell_type": "code",
      "execution_count": 17,
      "metadata": {
        "id": "-HFfcDsSGDYQ",
        "colab": {
          "base_uri": "https://localhost:8080/"
        },
        "outputId": "02fce0e2-5287-4e0f-fbec-b096f0b1d556"
      },
      "outputs": [
        {
          "output_type": "execute_result",
          "data": {
            "text/plain": [
              "array([ 1,  9, 25, 49, 81])"
            ]
          },
          "metadata": {},
          "execution_count": 17
        }
      ],
      "source": [
        "np.square(a)\n"
      ]
    },
    {
      "cell_type": "code",
      "execution_count": 18,
      "metadata": {
        "id": "MXf31ZmBdlkA"
      },
      "outputs": [],
      "source": [
        "a = np.array([[1,2], [3,4]])\n",
        "b = np.array([[5,6], [7,8]])"
      ]
    },
    {
      "cell_type": "code",
      "execution_count": 19,
      "metadata": {
        "colab": {
          "base_uri": "https://localhost:8080/"
        },
        "id": "8QP66UAGwjW6",
        "outputId": "6c84b6cc-a1ad-449f-e6e7-3b124bc061cb"
      },
      "outputs": [
        {
          "output_type": "stream",
          "name": "stdout",
          "text": [
            "[[1 2]\n",
            " [3 4]]\n",
            "[[5 6]\n",
            " [7 8]]\n"
          ]
        }
      ],
      "source": [
        "print(a)\n",
        "print(b)"
      ]
    },
    {
      "cell_type": "code",
      "execution_count": 20,
      "metadata": {
        "id": "cY_AIJE1dwBQ",
        "colab": {
          "base_uri": "https://localhost:8080/"
        },
        "outputId": "4a4e8f77-47e6-4915-8320-8b942a5347fa"
      },
      "outputs": [
        {
          "output_type": "execute_result",
          "data": {
            "text/plain": [
              "array([[ 6,  8],\n",
              "       [10, 12]])"
            ]
          },
          "metadata": {},
          "execution_count": 20
        }
      ],
      "source": [
        "# add two same sized arrays\n",
        "a + b"
      ]
    },
    {
      "cell_type": "code",
      "execution_count": 21,
      "metadata": {
        "id": "Ois0A37QeEus"
      },
      "outputs": [],
      "source": [
        "# create a function\n",
        "def even_odd(x):\n",
        "  if x % 2 == 0:\n",
        "    return 0\n",
        "  else:\n",
        "    return 1"
      ]
    },
    {
      "cell_type": "markdown",
      "source": [
        "\n",
        "\n",
        "```\n",
        "numpy.vectorize(pyfunc, otypes=None, doc=None, excluded=None, cache=False, signature=None)\n",
        "\n",
        "Parameters:\t\n",
        "pyfunc :python函数或方法\n",
        "otypes : 输出数据类型。必须将其指定为一个typecode字符串或一个数据类型说明符列表。\n",
        "每个输出应该有一个数据类型说明符。\n",
        "doc : 函数的docstring。如果为None，则docstring将是 pyfunc.__doc__。\n",
        "excluded : 表示函数不会向量化的位置或关键字参数的字符串或整数集。\n",
        "这些将直接传递给未经修改的pyfunc\n",
        "cache :如果为True，则缓存第一个函数调用，该函数调用确定未提供otype的输出数。\n",
        "signature : 广义通用函数签名，例如，(m,n),(n)->(m)用于矢量化矩阵 - 向量乘法。\n",
        "如果提供的话，pyfunc将调用（并期望返回）具有由相应核心维度的大小给出的形状的数组。\n",
        "默认情况下，pyfunc假定将标量作为输入和输出。\n",
        "Returns:\t\n",
        "vectorized :向量化的数组\n",
        "```\n",
        "\n",
        "\n"
      ],
      "metadata": {
        "id": "CXGSLI7qMU2c"
      }
    },
    {
      "cell_type": "code",
      "execution_count": 22,
      "metadata": {
        "id": "r00VYc7jeOGA",
        "colab": {
          "base_uri": "https://localhost:8080/"
        },
        "outputId": "f4b5c6f4-1ce1-4a44-f377-3083cc8e203d"
      },
      "outputs": [
        {
          "output_type": "execute_result",
          "data": {
            "text/plain": [
              "array([[1, 0],\n",
              "       [1, 0]])"
            ]
          },
          "metadata": {},
          "execution_count": 22
        }
      ],
      "source": [
        "# apply the function to an array\n",
        "vec_even_odd = np.vectorize(even_odd)\n",
        "vec_even_odd(a)"
      ]
    },
    {
      "cell_type": "code",
      "execution_count": 23,
      "metadata": {
        "colab": {
          "base_uri": "https://localhost:8080/"
        },
        "id": "KnDq8PHWwjW8",
        "outputId": "40a64bcc-fedf-4adb-9986-40a1c2bed7b2"
      },
      "outputs": [
        {
          "output_type": "stream",
          "name": "stdout",
          "text": [
            "[0 1 2 3 4 5 6 7 8 9]\n"
          ]
        },
        {
          "output_type": "execute_result",
          "data": {
            "text/plain": [
              "array([ 0,  1,  2,  3,  4, -5, -6, -7, -8, -9])"
            ]
          },
          "metadata": {},
          "execution_count": 23
        }
      ],
      "source": [
        "# where\n",
        "a = np.arange(10)\n",
        "print(a)\n",
        "np.where(a < 5, a, a * -1)\n"
      ]
    },
    {
      "cell_type": "code",
      "execution_count": 24,
      "metadata": {
        "colab": {
          "base_uri": "https://localhost:8080/"
        },
        "id": "CrQcigTSwjW9",
        "outputId": "d5da5c98-ba0f-405a-88e5-cd86301dc96b"
      },
      "outputs": [
        {
          "output_type": "execute_result",
          "data": {
            "text/plain": [
              "(array([1, 2, 4, 5]),)"
            ]
          },
          "metadata": {},
          "execution_count": 24
        }
      ],
      "source": [
        "# nonzero \n",
        "a = np.array([0, 1, 4, 0, 5, 7, 0])\n",
        "a.nonzero()\n"
      ]
    },
    {
      "cell_type": "code",
      "source": [
        "# nonzero\n",
        "# 2D\n",
        "a = np.array([[1,2,3],[0,6,9]])\n",
        "a.nonzero()"
      ],
      "metadata": {
        "colab": {
          "base_uri": "https://localhost:8080/"
        },
        "id": "gASVk2C2Mtsy",
        "outputId": "81cb6aae-9ee6-4bc0-e74a-c93c54019462"
      },
      "execution_count": 25,
      "outputs": [
        {
          "output_type": "execute_result",
          "data": {
            "text/plain": [
              "(array([0, 0, 0, 1, 1]), array([0, 1, 2, 1, 2]))"
            ]
          },
          "metadata": {},
          "execution_count": 25
        }
      ]
    },
    {
      "cell_type": "markdown",
      "source": [
        "对于2D的array，返回的第一个是row的index，第二个是col的index\n",
        "\n",
        "即：\n",
        "\n",
        "\n",
        "\n",
        "```\n",
        "(array([0, 0, 0, 1, 1]), array([0, 1, 2, 1, 2]))\n",
        "\n",
        "(0,0)\n",
        "(0,1)\n",
        "(0,2)\n",
        "(1,1)\n",
        "(1,2)\n",
        "```\n",
        "\n",
        "就是非零元素的位置\n",
        "\n"
      ],
      "metadata": {
        "id": "NXZnMNEFNG7O"
      }
    },
    {
      "cell_type": "code",
      "source": [
        "# nonzero\n",
        "# 3D\n",
        "a = np.array([\n",
        "    [[1,2,4], [6,0,3]],\n",
        "    [[8,12,0], [9,11,2]],\n",
        "    [[21,2,1],[3,4,6]]\n",
        "])\n",
        "a.nonzero()"
      ],
      "metadata": {
        "colab": {
          "base_uri": "https://localhost:8080/"
        },
        "id": "c4HZZA6SNjL7",
        "outputId": "0cc4d0ce-5a25-480a-e2c2-05aec8fad4f1"
      },
      "execution_count": 26,
      "outputs": [
        {
          "output_type": "execute_result",
          "data": {
            "text/plain": [
              "(array([0, 0, 0, 0, 0, 1, 1, 1, 1, 1, 2, 2, 2, 2, 2, 2]),\n",
              " array([0, 0, 0, 1, 1, 0, 0, 1, 1, 1, 0, 0, 0, 1, 1, 1]),\n",
              " array([0, 1, 2, 0, 2, 0, 1, 0, 1, 2, 0, 1, 2, 0, 1, 2]))"
            ]
          },
          "metadata": {},
          "execution_count": 26
        }
      ]
    },
    {
      "cell_type": "markdown",
      "metadata": {
        "id": "OOvEkakwGDYR"
      },
      "source": [
        "Copyright ©2019 Christopher M Jermaine (cmj4@rice.edu), and Risa B Myers  (rbm2@rice.edu)\n",
        "\n",
        "Licensed under the Apache License, Version 2.0 (the \"License\");\n",
        "you may not use this file except in compliance with the License.\n",
        "You may obtain a copy of the License at\n",
        "\n",
        "    https://www.apache.org/licenses/LICENSE-2.0\n",
        "\n",
        "Unless required by applicable law or agreed to in writing, software\n",
        "distributed under the License is distributed on an \"AS IS\" BASIS,\n",
        "WITHOUT WARRANTIES OR CONDITIONS OF ANY KIND, either express or implied.\n",
        "See the License for the specific language governing permissions and\n",
        "limitations under the License."
      ]
    }
  ],
  "metadata": {
    "celltoolbar": "Slideshow",
    "colab": {
      "provenance": [],
      "include_colab_link": true
    },
    "kernelspec": {
      "display_name": "Python 3",
      "language": "python",
      "name": "python3"
    },
    "language_info": {
      "codemirror_mode": {
        "name": "ipython",
        "version": 3
      },
      "file_extension": ".py",
      "mimetype": "text/x-python",
      "name": "python",
      "nbconvert_exporter": "python",
      "pygments_lexer": "ipython3",
      "version": "3.6.13"
    }
  },
  "nbformat": 4,
  "nbformat_minor": 0
}