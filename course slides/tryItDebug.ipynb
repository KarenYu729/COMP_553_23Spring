{
  "cells": [
    {
      "cell_type": "markdown",
      "metadata": {
        "id": "view-in-github",
        "colab_type": "text"
      },
      "source": [
        "<a href=\"https://colab.research.google.com/github/KarenYu729/COMP_553_23Spring/blob/main/course%20slides/tryItDebug.ipynb\" target=\"_parent\"><img src=\"https://colab.research.google.com/assets/colab-badge.svg\" alt=\"Open In Colab\"/></a>"
      ]
    },
    {
      "cell_type": "markdown",
      "metadata": {
        "id": "NI3_-Uvoj0x1"
      },
      "source": [
        "# Try It! - Debugging\n",
        "\n",
        "\n",
        "The following functions all attempt to return the Factorial of a number. Test and (if needed) debug and fix each of the functions.\n",
        "\n",
        "See https://en.wikipedia.org/wiki/Factorial for more details on the definition of Factorial.\n",
        "\n",
        "\n",
        "### Honor Code\n",
        "You may work with a classmate on this Try It!, but may not search the internet or any servers for solutions. You may not post this Try It! or your solution on any server or website accessible to anyone but you.\n",
        "\n"
      ]
    },
    {
      "cell_type": "code",
      "execution_count": null,
      "metadata": {
        "id": "lmC_g8PLdzXC"
      },
      "outputs": [],
      "source": [
        "# version 1\n",
        "def Factorial (n):\n",
        "    if n == 1 or n == 0:\n",
        "        return 1 \n",
        "    else:\n",
        "      # change to minus one\n",
        "        return n * Factorial (n - 1)"
      ]
    },
    {
      "cell_type": "code",
      "execution_count": null,
      "metadata": {
        "colab": {
          "base_uri": "https://localhost:8080/"
        },
        "id": "1zYSxn4KdzXE",
        "outputId": "6bf7cb83-0654-4692-936a-e56b7fa4c318"
      },
      "outputs": [
        {
          "output_type": "execute_result",
          "data": {
            "text/plain": [
              "6"
            ]
          },
          "metadata": {},
          "execution_count": 7
        }
      ],
      "source": [
        "# test code here\n",
        "Factorial(3)"
      ]
    },
    {
      "cell_type": "code",
      "execution_count": null,
      "metadata": {
        "id": "mY4lmkicdzXF"
      },
      "outputs": [],
      "source": [
        "# version 2\n",
        "def Factorial (n):\n",
        "  # three 1\n",
        "    if n == 1:\n",
        "        return 1 \n",
        "    else:\n",
        "        return n * Factorial (n - 1)"
      ]
    },
    {
      "cell_type": "code",
      "execution_count": null,
      "metadata": {
        "colab": {
          "base_uri": "https://localhost:8080/"
        },
        "id": "b0HeCjhTdzXF",
        "outputId": "8b7bba77-bb20-4f5e-dbc6-862419e3fe66"
      },
      "outputs": [
        {
          "output_type": "execute_result",
          "data": {
            "text/plain": [
              "6"
            ]
          },
          "metadata": {},
          "execution_count": 10
        }
      ],
      "source": [
        "# test code here\n",
        "Factorial(3)"
      ]
    },
    {
      "cell_type": "code",
      "execution_count": null,
      "metadata": {
        "id": "1_EqH0J8dzXG"
      },
      "outputs": [],
      "source": [
        "# version 3\n",
        "def Factorial (n):\n",
        "    if n == 1 or n == 0:\n",
        "        return 1 \n",
        "    else:\n",
        "      # type error\n",
        "        return n * Factorial (n - 1)"
      ]
    },
    {
      "cell_type": "code",
      "execution_count": null,
      "metadata": {
        "colab": {
          "base_uri": "https://localhost:8080/"
        },
        "id": "ustBmCG0dzXG",
        "outputId": "5911520e-07bd-43a2-c601-139be550698e"
      },
      "outputs": [
        {
          "output_type": "execute_result",
          "data": {
            "text/plain": [
              "6"
            ]
          },
          "metadata": {},
          "execution_count": 12
        }
      ],
      "source": [
        "# test code here\n",
        "Factorial(3)"
      ]
    },
    {
      "cell_type": "markdown",
      "metadata": {
        "id": "u1ea0IQmhX9p"
      },
      "source": [
        "Copyright ©  2022 Rice University\n",
        "\n",
        "Licensed under the Apache License, Version 2.0 (the \"License\");\n",
        "you may not use this file except in compliance with the License.\n",
        "You may obtain a copy of the License at\n",
        "\n",
        "    https://www.apache.org/licenses/LICENSE-2.0\n",
        "\n",
        "Unless required by applicable law or agreed to in writing, software\n",
        "distributed under the License is distributed on an \"AS IS\" BASIS,\n",
        "WITHOUT WARRANTIES OR CONDITIONS OF ANY KIND, either express or implied.\n",
        "See the License for the specific language governing permissions and\n",
        "limitations under the License."
      ]
    }
  ],
  "metadata": {
    "celltoolbar": "Tags",
    "colab": {
      "provenance": [],
      "include_colab_link": true
    },
    "kernelspec": {
      "display_name": "Python 3",
      "language": "python",
      "name": "python3"
    },
    "language_info": {
      "codemirror_mode": {
        "name": "ipython",
        "version": 3
      },
      "file_extension": ".py",
      "mimetype": "text/x-python",
      "name": "python",
      "nbconvert_exporter": "python",
      "pygments_lexer": "ipython3",
      "version": "3.6.13"
    }
  },
  "nbformat": 4,
  "nbformat_minor": 0
}